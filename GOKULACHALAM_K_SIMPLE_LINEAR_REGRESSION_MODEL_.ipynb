{
  "cells": [
    {
      "cell_type": "code",
      "execution_count": 23,
      "metadata": {
        "id": "QLf40z3LDqtK"
      },
      "outputs": [],
      "source": [
        "import pandas as pd\n",
        "import numpy as np\n",
        "import matplotlib.pyplot as plt"
      ]
    },
    {
      "cell_type": "markdown",
      "metadata": {
        "id": "7ty7Nbvr-w5k"
      },
      "source": [
        "NAME : GOKULACHALAM.K\n",
        "ROLL NO 20AD014\n",
        "ASSIGNMENT : SIMPLE LINEAR REGRESSIION"
      ]
    },
    {
      "cell_type": "code",
      "execution_count": 24,
      "metadata": {
        "id": "il_rht3i5oXW"
      },
      "outputs": [],
      "source": [
        "#FOR BUILDIUNG A SIMPLE LINEAR REGRESSION MODEL I HAVE TAKEN THE HEIGHT AND WEIGHT DATASET\n",
        "#MY MODEL WILL PREDICT THE HEIGHT A"
      ]
    },
    {
      "cell_type": "code",
      "execution_count": 25,
      "metadata": {
        "colab": {
          "base_uri": "https://localhost:8080/",
          "height": 514
        },
        "id": "BccehaszDxvh",
        "outputId": "7a150085-09b7-4d3d-9e77-e4ee1dc61be6"
      },
      "outputs": [
        {
          "data": {
            "text/html": [
              "<div>\n",
              "<style scoped>\n",
              "    .dataframe tbody tr th:only-of-type {\n",
              "        vertical-align: middle;\n",
              "    }\n",
              "\n",
              "    .dataframe tbody tr th {\n",
              "        vertical-align: top;\n",
              "    }\n",
              "\n",
              "    .dataframe thead th {\n",
              "        text-align: right;\n",
              "    }\n",
              "</style>\n",
              "<table border=\"1\" class=\"dataframe\">\n",
              "  <thead>\n",
              "    <tr style=\"text-align: right;\">\n",
              "      <th></th>\n",
              "      <th>Height</th>\n",
              "      <th>Weight</th>\n",
              "    </tr>\n",
              "  </thead>\n",
              "  <tbody>\n",
              "    <tr>\n",
              "      <th>0</th>\n",
              "      <td>1.47</td>\n",
              "      <td>52.21</td>\n",
              "    </tr>\n",
              "    <tr>\n",
              "      <th>1</th>\n",
              "      <td>1.50</td>\n",
              "      <td>53.12</td>\n",
              "    </tr>\n",
              "    <tr>\n",
              "      <th>2</th>\n",
              "      <td>1.52</td>\n",
              "      <td>54.48</td>\n",
              "    </tr>\n",
              "    <tr>\n",
              "      <th>3</th>\n",
              "      <td>1.55</td>\n",
              "      <td>55.84</td>\n",
              "    </tr>\n",
              "    <tr>\n",
              "      <th>4</th>\n",
              "      <td>1.57</td>\n",
              "      <td>57.20</td>\n",
              "    </tr>\n",
              "    <tr>\n",
              "      <th>5</th>\n",
              "      <td>1.60</td>\n",
              "      <td>58.57</td>\n",
              "    </tr>\n",
              "    <tr>\n",
              "      <th>6</th>\n",
              "      <td>1.63</td>\n",
              "      <td>59.93</td>\n",
              "    </tr>\n",
              "    <tr>\n",
              "      <th>7</th>\n",
              "      <td>1.65</td>\n",
              "      <td>61.29</td>\n",
              "    </tr>\n",
              "    <tr>\n",
              "      <th>8</th>\n",
              "      <td>1.68</td>\n",
              "      <td>63.11</td>\n",
              "    </tr>\n",
              "    <tr>\n",
              "      <th>9</th>\n",
              "      <td>1.70</td>\n",
              "      <td>64.47</td>\n",
              "    </tr>\n",
              "    <tr>\n",
              "      <th>10</th>\n",
              "      <td>1.73</td>\n",
              "      <td>66.28</td>\n",
              "    </tr>\n",
              "    <tr>\n",
              "      <th>11</th>\n",
              "      <td>1.75</td>\n",
              "      <td>68.10</td>\n",
              "    </tr>\n",
              "    <tr>\n",
              "      <th>12</th>\n",
              "      <td>1.78</td>\n",
              "      <td>69.92</td>\n",
              "    </tr>\n",
              "    <tr>\n",
              "      <th>13</th>\n",
              "      <td>1.80</td>\n",
              "      <td>72.19</td>\n",
              "    </tr>\n",
              "    <tr>\n",
              "      <th>14</th>\n",
              "      <td>1.83</td>\n",
              "      <td>74.46</td>\n",
              "    </tr>\n",
              "  </tbody>\n",
              "</table>\n",
              "</div>"
            ],
            "text/plain": [
              "    Height  Weight\n",
              "0     1.47   52.21\n",
              "1     1.50   53.12\n",
              "2     1.52   54.48\n",
              "3     1.55   55.84\n",
              "4     1.57   57.20\n",
              "5     1.60   58.57\n",
              "6     1.63   59.93\n",
              "7     1.65   61.29\n",
              "8     1.68   63.11\n",
              "9     1.70   64.47\n",
              "10    1.73   66.28\n",
              "11    1.75   68.10\n",
              "12    1.78   69.92\n",
              "13    1.80   72.19\n",
              "14    1.83   74.46"
            ]
          },
          "execution_count": 25,
          "metadata": {},
          "output_type": "execute_result"
        }
      ],
      "source": [
        "df = pd.read_csv(\"data (1).csv\")\n",
        "df"
      ]
    },
    {
      "cell_type": "code",
      "execution_count": null,
      "metadata": {
        "id": "WTbOWyrq6mbq"
      },
      "outputs": [],
      "source": []
    },
    {
      "cell_type": "code",
      "execution_count": 26,
      "metadata": {
        "colab": {
          "base_uri": "https://localhost:8080/",
          "height": 204
        },
        "id": "NhMX_bctFSix",
        "outputId": "b3a63d9d-497f-4181-e311-1682c4430be0"
      },
      "outputs": [
        {
          "data": {
            "text/html": [
              "<div>\n",
              "<style scoped>\n",
              "    .dataframe tbody tr th:only-of-type {\n",
              "        vertical-align: middle;\n",
              "    }\n",
              "\n",
              "    .dataframe tbody tr th {\n",
              "        vertical-align: top;\n",
              "    }\n",
              "\n",
              "    .dataframe thead th {\n",
              "        text-align: right;\n",
              "    }\n",
              "</style>\n",
              "<table border=\"1\" class=\"dataframe\">\n",
              "  <thead>\n",
              "    <tr style=\"text-align: right;\">\n",
              "      <th></th>\n",
              "      <th>Height</th>\n",
              "      <th>Weight</th>\n",
              "    </tr>\n",
              "  </thead>\n",
              "  <tbody>\n",
              "    <tr>\n",
              "      <th>0</th>\n",
              "      <td>1.47</td>\n",
              "      <td>52.21</td>\n",
              "    </tr>\n",
              "    <tr>\n",
              "      <th>1</th>\n",
              "      <td>1.50</td>\n",
              "      <td>53.12</td>\n",
              "    </tr>\n",
              "    <tr>\n",
              "      <th>2</th>\n",
              "      <td>1.52</td>\n",
              "      <td>54.48</td>\n",
              "    </tr>\n",
              "    <tr>\n",
              "      <th>3</th>\n",
              "      <td>1.55</td>\n",
              "      <td>55.84</td>\n",
              "    </tr>\n",
              "    <tr>\n",
              "      <th>4</th>\n",
              "      <td>1.57</td>\n",
              "      <td>57.20</td>\n",
              "    </tr>\n",
              "  </tbody>\n",
              "</table>\n",
              "</div>"
            ],
            "text/plain": [
              "   Height  Weight\n",
              "0    1.47   52.21\n",
              "1    1.50   53.12\n",
              "2    1.52   54.48\n",
              "3    1.55   55.84\n",
              "4    1.57   57.20"
            ]
          },
          "execution_count": 26,
          "metadata": {},
          "output_type": "execute_result"
        }
      ],
      "source": [
        "df.head()"
      ]
    },
    {
      "cell_type": "code",
      "execution_count": 27,
      "metadata": {
        "colab": {
          "base_uri": "https://localhost:8080/"
        },
        "id": "QO14Jb4_FVDN",
        "outputId": "9e919c82-6b69-4e80-bbfe-443a3a24dc99"
      },
      "outputs": [
        {
          "data": {
            "text/plain": [
              "Height    0\n",
              "Weight    0\n",
              "dtype: int64"
            ]
          },
          "execution_count": 27,
          "metadata": {},
          "output_type": "execute_result"
        }
      ],
      "source": [
        "df.isnull().sum()"
      ]
    },
    {
      "cell_type": "markdown",
      "metadata": {
        "id": "ZGndv-D4-A0f"
      },
      "source": [
        "Now we need to find out the correlation between two variables"
      ]
    },
    {
      "cell_type": "code",
      "execution_count": 28,
      "metadata": {
        "colab": {
          "base_uri": "https://localhost:8080/",
          "height": 111
        },
        "id": "nr9Lt-Qq8cnZ",
        "outputId": "04f70add-77cf-45f2-a568-feba2d416544"
      },
      "outputs": [
        {
          "data": {
            "text/html": [
              "<div>\n",
              "<style scoped>\n",
              "    .dataframe tbody tr th:only-of-type {\n",
              "        vertical-align: middle;\n",
              "    }\n",
              "\n",
              "    .dataframe tbody tr th {\n",
              "        vertical-align: top;\n",
              "    }\n",
              "\n",
              "    .dataframe thead th {\n",
              "        text-align: right;\n",
              "    }\n",
              "</style>\n",
              "<table border=\"1\" class=\"dataframe\">\n",
              "  <thead>\n",
              "    <tr style=\"text-align: right;\">\n",
              "      <th></th>\n",
              "      <th>Height</th>\n",
              "      <th>Weight</th>\n",
              "    </tr>\n",
              "  </thead>\n",
              "  <tbody>\n",
              "    <tr>\n",
              "      <th>Height</th>\n",
              "      <td>1.000000</td>\n",
              "      <td>0.994584</td>\n",
              "    </tr>\n",
              "    <tr>\n",
              "      <th>Weight</th>\n",
              "      <td>0.994584</td>\n",
              "      <td>1.000000</td>\n",
              "    </tr>\n",
              "  </tbody>\n",
              "</table>\n",
              "</div>"
            ],
            "text/plain": [
              "          Height    Weight\n",
              "Height  1.000000  0.994584\n",
              "Weight  0.994584  1.000000"
            ]
          },
          "execution_count": 28,
          "metadata": {},
          "output_type": "execute_result"
        }
      ],
      "source": [
        "df.corr()"
      ]
    },
    {
      "cell_type": "markdown",
      "metadata": {
        "id": "QEY3HEti-ChY"
      },
      "source": [
        "Now, we need only the values of this independent variable and this independent variable should be 2 dimension array and we need also the dependent variable values. It is one dimension array"
      ]
    },
    {
      "cell_type": "code",
      "execution_count": 29,
      "metadata": {
        "colab": {
          "base_uri": "https://localhost:8080/"
        },
        "id": "PiP9fuZi9G3u",
        "outputId": "fa6bb784-4008-4c73-d7df-f50fac080dab"
      },
      "outputs": [
        {
          "data": {
            "text/plain": [
              "array([52.21, 53.12, 54.48, 55.84, 57.2 , 58.57, 59.93, 61.29, 63.11,\n",
              "       64.47, 66.28, 68.1 , 69.92, 72.19, 74.46])"
            ]
          },
          "execution_count": 29,
          "metadata": {},
          "output_type": "execute_result"
        }
      ],
      "source": [
        "height=df.Height.values[:,np.newaxis]\n",
        "weight=df.Weight.values\n",
        "height\n",
        "weight"
      ]
    },
    {
      "cell_type": "markdown",
      "metadata": {
        "id": "PVdbM-If-ICE"
      },
      "source": [
        "Now, we need to normalize the variables or max-mix scaling the variables.\n",
        "\n",
        "Formula:- Xnormal=(X-Xmin)/(Xmax-Xmin), where X is the values, Xman is the maximum value of the X and Xmin is the minimum value of this X."
      ]
    },
    {
      "cell_type": "code",
      "execution_count": 30,
      "metadata": {
        "colab": {
          "base_uri": "https://localhost:8080/"
        },
        "id": "ClZD9qnJ9KaV",
        "outputId": "c9a56781-e48f-437d-90c7-7acec8e674f2"
      },
      "outputs": [
        {
          "data": {
            "text/plain": [
              "array([0.        , 0.04089888, 0.10202247, 0.16314607, 0.22426966,\n",
              "       0.2858427 , 0.34696629, 0.40808989, 0.48988764, 0.55101124,\n",
              "       0.63235955, 0.7141573 , 0.79595506, 0.89797753, 1.        ])"
            ]
          },
          "execution_count": 30,
          "metadata": {},
          "output_type": "execute_result"
        }
      ],
      "source": [
        "Heightmin=height.min()\n",
        "Heightmax=height.max() \n",
        "Heightnorm=(height-Heightmin)/(Heightmax-Heightmin)\n",
        "Weightmin=weight.min()\n",
        "Weightmax=weight.max()\n",
        "Weightnorm=(weight-Weightmin)/(Weightmax-Weightmin)\n",
        "Heightnorm\n",
        "Weightnorm"
      ]
    },
    {
      "cell_type": "markdown",
      "metadata": {
        "id": "KTWQN5sF-SFu"
      },
      "source": [
        "we can apply the Linear Regression Model. In this sklearn library has an inbuilt method for this linear model."
      ]
    },
    {
      "cell_type": "code",
      "execution_count": 31,
      "metadata": {
        "colab": {
          "base_uri": "https://localhost:8080/"
        },
        "id": "uDc80YjR9Kef",
        "outputId": "ccbbc9e7-d8f1-4be0-a63e-1d80842341d9"
      },
      "outputs": [
        {
          "data": {
            "text/plain": [
              "LinearRegression()"
            ]
          },
          "execution_count": 31,
          "metadata": {},
          "output_type": "execute_result"
        }
      ],
      "source": [
        "import sklearn.linear_model as lm\n",
        "lr=lm.LinearRegression() \n",
        "lr.fit(height,weight)"
      ]
    },
    {
      "cell_type": "markdown",
      "metadata": {
        "id": "u1X1gcPf-Tit"
      },
      "source": [
        "e need to find out the value of the weight, when the height value is 3"
      ]
    },
    {
      "cell_type": "code",
      "execution_count": 32,
      "metadata": {
        "colab": {
          "base_uri": "https://localhost:8080/",
          "height": 204
        },
        "id": "YHbUU2Ti9PyK",
        "outputId": "d809371a-9022-443e-9941-af35e17f5faf"
      },
      "outputs": [
        {
          "data": {
            "text/html": [
              "<div>\n",
              "<style scoped>\n",
              "    .dataframe tbody tr th:only-of-type {\n",
              "        vertical-align: middle;\n",
              "    }\n",
              "\n",
              "    .dataframe tbody tr th {\n",
              "        vertical-align: top;\n",
              "    }\n",
              "\n",
              "    .dataframe thead th {\n",
              "        text-align: right;\n",
              "    }\n",
              "</style>\n",
              "<table border=\"1\" class=\"dataframe\">\n",
              "  <thead>\n",
              "    <tr style=\"text-align: right;\">\n",
              "      <th></th>\n",
              "      <th>Height</th>\n",
              "      <th>Weight</th>\n",
              "      <th>predicted_value</th>\n",
              "    </tr>\n",
              "  </thead>\n",
              "  <tbody>\n",
              "    <tr>\n",
              "      <th>0</th>\n",
              "      <td>1.47</td>\n",
              "      <td>52.21</td>\n",
              "      <td>51.008158</td>\n",
              "    </tr>\n",
              "    <tr>\n",
              "      <th>1</th>\n",
              "      <td>1.50</td>\n",
              "      <td>53.12</td>\n",
              "      <td>52.846324</td>\n",
              "    </tr>\n",
              "    <tr>\n",
              "      <th>2</th>\n",
              "      <td>1.52</td>\n",
              "      <td>54.48</td>\n",
              "      <td>54.071768</td>\n",
              "    </tr>\n",
              "    <tr>\n",
              "      <th>3</th>\n",
              "      <td>1.55</td>\n",
              "      <td>55.84</td>\n",
              "      <td>55.909933</td>\n",
              "    </tr>\n",
              "    <tr>\n",
              "      <th>4</th>\n",
              "      <td>1.57</td>\n",
              "      <td>57.20</td>\n",
              "      <td>57.135377</td>\n",
              "    </tr>\n",
              "  </tbody>\n",
              "</table>\n",
              "</div>"
            ],
            "text/plain": [
              "   Height  Weight  predicted_value\n",
              "0    1.47   52.21        51.008158\n",
              "1    1.50   53.12        52.846324\n",
              "2    1.52   54.48        54.071768\n",
              "3    1.55   55.84        55.909933\n",
              "4    1.57   57.20        57.135377"
            ]
          },
          "execution_count": 32,
          "metadata": {},
          "output_type": "execute_result"
        }
      ],
      "source": [
        "df[\"predicted_value\"]=lr.predict(height)\n",
        "df.head()"
      ]
    },
    {
      "cell_type": "markdown",
      "metadata": {
        "id": "se7qlTM7-X0e"
      },
      "source": [
        "finally we have to calculagte the accuracy of the model. accuracy means how efficiently the model can predict the value."
      ]
    },
    {
      "cell_type": "markdown",
      "metadata": {
        "id": "Kl_rPe__-uAI"
      },
      "source": [
        "R2 score is a metric that tells the performance of your model, not the loss in an absolute sense that how many wells did your model perform."
      ]
    },
    {
      "cell_type": "code",
      "execution_count": 33,
      "metadata": {
        "colab": {
          "base_uri": "https://localhost:8080/"
        },
        "id": "p8Lnte589yHG",
        "outputId": "c8d77d7c-78dd-4a64-a7b1-e79aa5556c09"
      },
      "outputs": [
        {
          "name": "stdout",
          "output_type": "stream",
          "text": [
            "the model accuracy is 98.91969224457968 %\n"
          ]
        }
      ],
      "source": [
        "from sklearn.metrics import r2_score\n",
        "accuracy=r2_score(weight,lr.predict(height))\n",
        "print(\"the model accuracy is\",accuracy*100,\"%\")"
      ]
    },
    {
      "cell_type": "code",
      "execution_count": 36,
      "metadata": {},
      "outputs": [],
      "source": [
        "import pickle\n",
        "pickle.dump(lr,open('model_2.pkl','wb'))"
      ]
    },
    {
      "cell_type": "code",
      "execution_count": 35,
      "metadata": {},
      "outputs": [],
      "source": [
        "model = pickle.load(open('model_2.pkl','rb'))"
      ]
    }
  ],
  "metadata": {
    "colab": {
      "name": "GOKULACHALAM_K_SIMPLE_LINEAR_REGRESSION_MODEL_.ipynb",
      "provenance": []
    },
    "kernelspec": {
      "display_name": "Python 3.8.8 ('base')",
      "language": "python",
      "name": "python3"
    },
    "language_info": {
      "codemirror_mode": {
        "name": "ipython",
        "version": 3
      },
      "file_extension": ".py",
      "mimetype": "text/x-python",
      "name": "python",
      "nbconvert_exporter": "python",
      "pygments_lexer": "ipython3",
      "version": "3.8.8"
    },
    "vscode": {
      "interpreter": {
        "hash": "1df48d30c5a43c01ef08badc77577e4367a2b658001e256ef42cfce7e032150f"
      }
    }
  },
  "nbformat": 4,
  "nbformat_minor": 0
}
